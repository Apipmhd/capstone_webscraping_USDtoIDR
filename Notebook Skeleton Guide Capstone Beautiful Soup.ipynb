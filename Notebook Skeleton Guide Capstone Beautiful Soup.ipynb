{
 "cells": [
  {
   "cell_type": "markdown",
   "metadata": {},
   "source": [
    "# Capstone Webscrapping using BeautifulSoup\n",
    "\n",
    "This notebook contains guidances & tasks on the data processing for the application \n",
    "\n",
    "## background\n",
    "\n",
    "At this project we try to scrap US Dollar (USD) To Indonesian Rupiah (IDR) Exchange Rate History website. The USD/IDR rate is down -4.56% in the six months. This means the US Dollar has decreased in value compared to the Indonesian Rupiah. We will try to scrap this sites for educational purpose only.\n",
    "\n",
    "This project was developed as one of the capstone projects of the Algorithm Academy Data Analytics Specialization. The expected deliverables from this project are doing simple web scraping to get information. For a step by step guide, ladies and gentlemen are welcome to open my git [Click here](https://github.com/Apipmhd/capstone_webscraping_USDtoIDR). We'll also make use of a simple flask dashboard to display our scrap results and visualizations.\n",
    "\n",
    "\n",
    "## Requesting the Data and Creating a BeautifulSoup\n",
    "\n",
    "Let's begin with requesting the web from the site with `get` method."
   ]
  },
  {
   "cell_type": "code",
   "execution_count": 21,
   "metadata": {
    "ExecuteTime": {
     "end_time": "2020-01-13T05:12:23.275508Z",
     "start_time": "2020-01-13T05:12:20.009898Z"
    }
   },
   "outputs": [],
   "source": [
    "import requests\n",
    "\n",
    "url_get = requests.get('https://www.exchange-rates.org/history/IDR/USD/T')"
   ]
  },
  {
   "cell_type": "markdown",
   "metadata": {},
   "source": [
    "To visualize what exactly you get from the `request.get`, we can use .content so ee what we exactly get, in here i slice it so it won't make our screen full of the html we get from the page. You can delete the slicing if you want to see what we fully get."
   ]
  },
  {
   "cell_type": "code",
   "execution_count": 22,
   "metadata": {
    "ExecuteTime": {
     "end_time": "2020-01-13T05:12:23.290648Z",
     "start_time": "2020-01-13T05:12:23.277650Z"
    }
   },
   "outputs": [
    {
     "data": {
      "text/plain": [
       "b'!DOCTYPE html>\\r\\n<!--[if lt IE 9]>\\r\\n<html class=\"no-js ie8 oldie\" lang=\"en\" xml:lang=\\'en\\'>\\r\\n<![endif]-->\\r\\n<!--[if gt IE 8]><!--><html class=\"no-js\" lang=\"en\" xml:lang=\\'en\\'><!--<![endif]-->\\r\\n<head>\\r\\n<title>USD to IDR exchange rate history</title>\\r\\n<meta http-equiv=\"X-UA-Compatible\" content=\"IE=edge\">\\r\\n<meta name=\"viewport\" content=\"width=device-width, initial-scale=1, maximum-scale=5\">\\r\\n<meta charset=\"utf-8\" /><meta http-equiv=\"Content-Type\" content=\"text/html; charset=utf-8\" />\\r\\n<base href=\"http'"
      ]
     },
     "execution_count": 22,
     "metadata": {},
     "output_type": "execute_result"
    }
   ],
   "source": [
    "url_get.content[1:500]"
   ]
  },
  {
   "cell_type": "markdown",
   "metadata": {},
   "source": [
    "As we can see we get a very unstructured and complex html, which actually contains the codes needed to show the webpages on your web browser. But we as human still confused what and where we can use that piece of code, so here where we use the beautifulsoup. Beautiful soup class will result a beautifulsoup object. Beautiful Soup transforms a complex HTML document into a complex tree of Python objects. \n",
    "\n",
    "Let's make Beautiful soup object and feel free to explore the object here."
   ]
  },
  {
   "cell_type": "code",
   "execution_count": 23,
   "metadata": {
    "ExecuteTime": {
     "end_time": "2020-01-13T05:12:23.808122Z",
     "start_time": "2020-01-13T05:12:23.292610Z"
    }
   },
   "outputs": [],
   "source": [
    "from bs4 import BeautifulSoup \n",
    "\n",
    "soup = BeautifulSoup(url_get.content,\"html.parser\")\n"
   ]
  },
  {
   "cell_type": "markdown",
   "metadata": {},
   "source": [
    "## Finding the right key to scrap the data & Extracting the right information"
   ]
  },
  {
   "cell_type": "markdown",
   "metadata": {},
   "source": [
    "As we can see from the line we just extract, we get all the content we needed.\n",
    "\n",
    "The find() function can help us to get our the part of the html code that we needed. "
   ]
  },
  {
   "cell_type": "code",
   "execution_count": 24,
   "metadata": {
    "ExecuteTime": {
     "end_time": "2020-01-13T05:12:23.878904Z",
     "start_time": "2020-01-13T05:12:23.854974Z"
    }
   },
   "outputs": [
    {
     "name": "stdout",
     "output_type": "stream",
     "text": [
      "table border=\"0\" cellpadding=\"0\" cellspacing=\"0\" class=\"history-rates-data\">\n",
      " <thead>\n",
      "  <tr>\n",
      "   <th class=\"ltr-bidi-fix\">\n",
      "    Date\n",
      "   </th>\n",
      "   <th class=\"ltr-bidi-fix\">\n",
      "    US Dollar to Indonesian Rupiah\n",
      "   </th>\n",
      "  </tr>\n",
      " </thead>\n",
      " <tbody>\n",
      "  <tr>\n",
      "   <td>\n",
      "    <a class=\"w\" href=\"/exchange-rate-history/usd-idr-2023-05-12\">\n",
      "     May 12, 2023\n",
      "    </a>\n",
      "    <a class=\"n\" href=\"/exchange-rate-history/usd-idr-2023-05-12\">\n",
      "     2023-5-12\n",
      "    </a>\n",
      "   </td>\n",
      "   <td>\n",
      "    <span class=\"w\">\n",
      "     <span class=\"now\n"
     ]
    }
   ],
   "source": [
    "table = soup.find('table', attrs={'class':'history-rates-data'})\n",
    "print(table.prettify()[1:500])"
   ]
  },
  {
   "cell_type": "markdown",
   "metadata": {},
   "source": [
    "Finding row length."
   ]
  },
  {
   "cell_type": "code",
   "execution_count": 25,
   "metadata": {},
   "outputs": [
    {
     "data": {
      "text/plain": [
       "130"
      ]
     },
     "execution_count": 25,
     "metadata": {},
     "output_type": "execute_result"
    }
   ],
   "source": [
    "row = table.find_all('a', attrs={'class':'w'})\n",
    "row_length = len(row)\n",
    "row_length"
   ]
  },
  {
   "cell_type": "markdown",
   "metadata": {},
   "source": [
    "Okay, okay now we know the length of our data, now here what we will do for the looping process. \n",
    "\n",
    "Here what the looping do to scrap the information: \n",
    "\n",
    "- First we need to establish a placeholder to receive the information that we scrap. \n",
    "- We named our placeholder `temp` and it's a list. \n",
    "- Then we will make a loop from one until the the length of the table row, \n",
    "- which we will find all cell of the column one and two which contain period and the USD to IDR rate. \n",
    "- Then we will append it to our tuple that we prepared before, \n",
    "- every one literation we will scrap one line of the table.  "
   ]
  },
  {
   "cell_type": "code",
   "execution_count": 26,
   "metadata": {
    "ExecuteTime": {
     "end_time": "2020-01-13T05:12:24.008256Z",
     "start_time": "2020-01-13T05:12:23.980358Z"
    }
   },
   "outputs": [
    {
     "data": {
      "text/plain": [
       "[('May 12, 2023', '$1 = Rp14,844'),\n",
       " ('May 11, 2023', '$1 = Rp14,776'),\n",
       " ('May 10, 2023', '$1 = Rp14,698'),\n",
       " ('May 9, 2023', '$1 = Rp14,776'),\n",
       " ('May 8, 2023', '$1 = Rp14,744'),\n",
       " ('May 5, 2023', '$1 = Rp14,675'),\n",
       " ('May 4, 2023', '$1 = Rp14,699'),\n",
       " ('May 3, 2023', '$1 = Rp14,680'),\n",
       " ('May 2, 2023', '$1 = Rp14,747'),\n",
       " ('May 1, 2023', '$1 = Rp14,677'),\n",
       " ('April 28, 2023', '$1 = Rp14,674'),\n",
       " ('April 27, 2023', '$1 = Rp14,691'),\n",
       " ('April 26, 2023', '$1 = Rp14,841'),\n",
       " ('April 25, 2023', '$1 = Rp14,940'),\n",
       " ('April 24, 2023', '$1 = Rp14,934'),\n",
       " ('April 21, 2023', '$1 = Rp14,936'),\n",
       " ('April 20, 2023', '$1 = Rp14,954'),\n",
       " ('April 19, 2023', '$1 = Rp14,995'),\n",
       " ('April 18, 2023', '$1 = Rp14,889'),\n",
       " ('April 17, 2023', '$1 = Rp14,850'),\n",
       " ('April 14, 2023', '$1 = Rp14,782'),\n",
       " ('April 13, 2023', '$1 = Rp14,722'),\n",
       " ('April 12, 2023', '$1 = Rp14,835'),\n",
       " ('April 11, 2023', '$1 = Rp14,915'),\n",
       " ('April 10, 2023', '$1 = Rp14,950'),\n",
       " ('April 7, 2023', '$1 = Rp14,941'),\n",
       " ('April 6, 2023', '$1 = Rp14,931'),\n",
       " ('April 5, 2023', '$1 = Rp14,960'),\n",
       " ('April 4, 2023', '$1 = Rp14,957'),\n",
       " ('April 3, 2023', '$1 = Rp14,922'),\n",
       " ('March 31, 2023', '$1 = Rp14,969'),\n",
       " ('March 30, 2023', '$1 = Rp15,024'),\n",
       " ('March 29, 2023', '$1 = Rp15,034'),\n",
       " ('March 28, 2023', '$1 = Rp15,060'),\n",
       " ('March 27, 2023', '$1 = Rp15,107'),\n",
       " ('March 24, 2023', '$1 = Rp15,165'),\n",
       " ('March 23, 2023', '$1 = Rp15,085'),\n",
       " ('March 22, 2023', '$1 = Rp15,253'),\n",
       " ('March 21, 2023', '$1 = Rp15,301'),\n",
       " ('March 20, 2023', '$1 = Rp15,343'),\n",
       " ('March 17, 2023', '$1 = Rp15,375'),\n",
       " ('March 16, 2023', '$1 = Rp15,429'),\n",
       " ('March 15, 2023', '$1 = Rp15,459'),\n",
       " ('March 14, 2023', '$1 = Rp15,380'),\n",
       " ('March 13, 2023', '$1 = Rp15,416'),\n",
       " ('March 10, 2023', '$1 = Rp15,503'),\n",
       " ('March 9, 2023', '$1 = Rp15,495'),\n",
       " ('March 8, 2023', '$1 = Rp15,449'),\n",
       " ('March 7, 2023', '$1 = Rp15,429'),\n",
       " ('March 6, 2023', '$1 = Rp15,354'),\n",
       " ('March 3, 2023', '$1 = Rp15,278'),\n",
       " ('March 2, 2023', '$1 = Rp15,322'),\n",
       " ('March 1, 2023', '$1 = Rp15,249'),\n",
       " ('February 28, 2023', '$1 = Rp15,241'),\n",
       " ('February 27, 2023', '$1 = Rp15,216'),\n",
       " ('February 24, 2023', '$1 = Rp15,265'),\n",
       " ('February 23, 2023', '$1 = Rp15,211'),\n",
       " ('February 22, 2023', '$1 = Rp15,197'),\n",
       " ('February 21, 2023', '$1 = Rp15,235'),\n",
       " ('February 20, 2023', '$1 = Rp15,168'),\n",
       " ('February 17, 2023', '$1 = Rp15,166'),\n",
       " ('February 16, 2023', '$1 = Rp15,144'),\n",
       " ('February 15, 2023', '$1 = Rp15,205'),\n",
       " ('February 14, 2023', '$1 = Rp15,186'),\n",
       " ('February 13, 2023', '$1 = Rp15,216'),\n",
       " ('February 10, 2023', '$1 = Rp15,188'),\n",
       " ('February 9, 2023', '$1 = Rp15,147'),\n",
       " ('February 8, 2023', '$1 = Rp15,133'),\n",
       " ('February 7, 2023', '$1 = Rp15,154'),\n",
       " ('February 6, 2023', '$1 = Rp15,198'),\n",
       " ('February 3, 2023', '$1 = Rp15,095'),\n",
       " ('February 2, 2023', '$1 = Rp14,907'),\n",
       " ('February 1, 2023', '$1 = Rp14,896'),\n",
       " ('January 31, 2023', '$1 = Rp15,002'),\n",
       " ('January 30, 2023', '$1 = Rp15,013'),\n",
       " ('January 27, 2023', '$1 = Rp14,973'),\n",
       " ('January 26, 2023', '$1 = Rp14,955'),\n",
       " ('January 25, 2023', '$1 = Rp14,940'),\n",
       " ('January 24, 2023', '$1 = Rp14,956'),\n",
       " ('January 23, 2023', '$1 = Rp15,026'),\n",
       " ('January 20, 2023', '$1 = Rp15,063'),\n",
       " ('January 19, 2023', '$1 = Rp15,154'),\n",
       " ('January 18, 2023', '$1 = Rp15,138'),\n",
       " ('January 17, 2023', '$1 = Rp15,180'),\n",
       " ('January 16, 2023', '$1 = Rp15,126'),\n",
       " ('January 13, 2023', '$1 = Rp15,115'),\n",
       " ('January 12, 2023', '$1 = Rp15,206'),\n",
       " ('January 11, 2023', '$1 = Rp15,432'),\n",
       " ('January 10, 2023', '$1 = Rp15,536'),\n",
       " ('January 9, 2023', '$1 = Rp15,596'),\n",
       " ('January 6, 2023', '$1 = Rp15,607'),\n",
       " ('January 5, 2023', '$1 = Rp15,635'),\n",
       " ('January 4, 2023', '$1 = Rp15,582'),\n",
       " ('January 3, 2023', '$1 = Rp15,594'),\n",
       " ('January 2, 2023', '$1 = Rp15,554'),\n",
       " ('December 30, 2022', '$1 = Rp15,534'),\n",
       " ('December 29, 2022', '$1 = Rp15,627'),\n",
       " ('December 28, 2022', '$1 = Rp15,789'),\n",
       " ('December 27, 2022', '$1 = Rp15,620'),\n",
       " ('December 26, 2022', '$1 = Rp15,621'),\n",
       " ('December 23, 2022', '$1 = Rp15,582'),\n",
       " ('December 22, 2022', '$1 = Rp15,574'),\n",
       " ('December 21, 2022', '$1 = Rp15,540'),\n",
       " ('December 20, 2022', '$1 = Rp15,564'),\n",
       " ('December 19, 2022', '$1 = Rp15,568'),\n",
       " ('December 16, 2022', '$1 = Rp15,616'),\n",
       " ('December 15, 2022', '$1 = Rp15,629'),\n",
       " ('December 14, 2022', '$1 = Rp15,543'),\n",
       " ('December 13, 2022', '$1 = Rp15,560'),\n",
       " ('December 12, 2022', '$1 = Rp15,676'),\n",
       " ('December 9, 2022', '$1 = Rp15,604'),\n",
       " ('December 8, 2022', '$1 = Rp15,594'),\n",
       " ('December 7, 2022', '$1 = Rp15,612'),\n",
       " ('December 6, 2022', '$1 = Rp15,625'),\n",
       " ('December 5, 2022', '$1 = Rp15,520'),\n",
       " ('December 2, 2022', '$1 = Rp15,376'),\n",
       " ('December 1, 2022', '$1 = Rp15,389'),\n",
       " ('November 30, 2022', '$1 = Rp15,633'),\n",
       " ('November 29, 2022', '$1 = Rp15,734'),\n",
       " ('November 28, 2022', '$1 = Rp15,743'),\n",
       " ('November 25, 2022', '$1 = Rp15,693'),\n",
       " ('November 24, 2022', '$1 = Rp15,647'),\n",
       " ('November 23, 2022', '$1 = Rp15,626'),\n",
       " ('November 22, 2022', '$1 = Rp15,664'),\n",
       " ('November 21, 2022', '$1 = Rp15,741'),\n",
       " ('November 18, 2022', '$1 = Rp15,641'),\n",
       " ('November 17, 2022', '$1 = Rp15,714'),\n",
       " ('November 16, 2022', '$1 = Rp15,639'),\n",
       " ('November 15, 2022', '$1 = Rp15,557'),\n",
       " ('November 14, 2022', '$1 = Rp15,554')]"
      ]
     },
     "execution_count": 26,
     "metadata": {},
     "output_type": "execute_result"
    }
   ],
   "source": [
    "temp = [] #initiating a tuple\n",
    "\n",
    "for i in range(0, row_length):\n",
    "\n",
    "    #scrapping process\n",
    "    period = table.find_all('a', attrs={'class':'w'})[i].text\n",
    "    \n",
    "    dolar_rupiah = table.find_all('span', attrs={'class':'w'})[i].text\n",
    "    \n",
    "    temp.append((period,dolar_rupiah))\n",
    "    \n",
    "temp"
   ]
  },
  {
   "cell_type": "markdown",
   "metadata": {},
   "source": [
    "## Creating data frame & Data wrangling"
   ]
  },
  {
   "cell_type": "markdown",
   "metadata": {},
   "source": [
    "Put the array into dataframe"
   ]
  },
  {
   "cell_type": "code",
   "execution_count": 27,
   "metadata": {
    "ExecuteTime": {
     "end_time": "2020-01-13T05:12:41.517372Z",
     "start_time": "2020-01-13T05:12:29.130015Z"
    },
    "scrolled": true
   },
   "outputs": [
    {
     "data": {
      "text/html": [
       "<div>\n",
       "<style scoped>\n",
       "    .dataframe tbody tr th:only-of-type {\n",
       "        vertical-align: middle;\n",
       "    }\n",
       "\n",
       "    .dataframe tbody tr th {\n",
       "        vertical-align: top;\n",
       "    }\n",
       "\n",
       "    .dataframe thead th {\n",
       "        text-align: right;\n",
       "    }\n",
       "</style>\n",
       "<table border=\"1\" class=\"dataframe\">\n",
       "  <thead>\n",
       "    <tr style=\"text-align: right;\">\n",
       "      <th></th>\n",
       "      <th>period</th>\n",
       "      <th>dolar_rupiah</th>\n",
       "    </tr>\n",
       "  </thead>\n",
       "  <tbody>\n",
       "    <tr>\n",
       "      <th>0</th>\n",
       "      <td>May 12, 2023</td>\n",
       "      <td>$1 = Rp14,844</td>\n",
       "    </tr>\n",
       "    <tr>\n",
       "      <th>1</th>\n",
       "      <td>May 11, 2023</td>\n",
       "      <td>$1 = Rp14,776</td>\n",
       "    </tr>\n",
       "    <tr>\n",
       "      <th>2</th>\n",
       "      <td>May 10, 2023</td>\n",
       "      <td>$1 = Rp14,698</td>\n",
       "    </tr>\n",
       "    <tr>\n",
       "      <th>3</th>\n",
       "      <td>May 9, 2023</td>\n",
       "      <td>$1 = Rp14,776</td>\n",
       "    </tr>\n",
       "    <tr>\n",
       "      <th>4</th>\n",
       "      <td>May 8, 2023</td>\n",
       "      <td>$1 = Rp14,744</td>\n",
       "    </tr>\n",
       "  </tbody>\n",
       "</table>\n",
       "</div>"
      ],
      "text/plain": [
       "         period   dolar_rupiah\n",
       "0  May 12, 2023  $1 = Rp14,844\n",
       "1  May 11, 2023  $1 = Rp14,776\n",
       "2  May 10, 2023  $1 = Rp14,698\n",
       "3   May 9, 2023  $1 = Rp14,776\n",
       "4   May 8, 2023  $1 = Rp14,744"
      ]
     },
     "execution_count": 27,
     "metadata": {},
     "output_type": "execute_result"
    }
   ],
   "source": [
    "import pandas as pd\n",
    "\n",
    "df = pd.DataFrame(temp, columns = ('period','dolar_rupiah'))\n",
    "df.head()"
   ]
  },
  {
   "cell_type": "markdown",
   "metadata": {},
   "source": [
    "Let's check our dataframe data types to see if our data is useable. "
   ]
  },
  {
   "cell_type": "code",
   "execution_count": 28,
   "metadata": {
    "ExecuteTime": {
     "end_time": "2020-01-13T05:12:59.165559Z",
     "start_time": "2020-01-13T05:12:58.910012Z"
    }
   },
   "outputs": [
    {
     "data": {
      "text/plain": [
       "period          object\n",
       "dolar_rupiah    object\n",
       "dtype: object"
      ]
     },
     "execution_count": 28,
     "metadata": {},
     "output_type": "execute_result"
    }
   ],
   "source": [
    "df.dtypes\n"
   ]
  },
  {
   "cell_type": "markdown",
   "metadata": {},
   "source": [
    "Usual stuff, we can clean the data or save it to csv let's do a bit cleaning so we can do a bit of visualisation. We will change `period` to `datetime64[ns]`, `dolar_rupiah` to `float64` datatype, but before we can do that we need to change the '$1 ' to '', '=' to '', 'Rp' to '', ',' to '' first. To do this we can use the help of str.replace(). Then lastly let's fix our period data type."
   ]
  },
  {
   "cell_type": "code",
   "execution_count": 29,
   "metadata": {},
   "outputs": [
    {
     "data": {
      "text/plain": [
       "period          datetime64[ns]\n",
       "dolar_rupiah           float64\n",
       "dtype: object"
      ]
     },
     "execution_count": 29,
     "metadata": {},
     "output_type": "execute_result"
    }
   ],
   "source": [
    "df['period'] = df['period'].astype('datetime64[ns]')\n",
    "df['dolar_rupiah'] = df['dolar_rupiah'].str.replace('$1 ','')\n",
    "df['dolar_rupiah'] = df['dolar_rupiah'].str.replace('=','')\n",
    "df['dolar_rupiah'] = df['dolar_rupiah'].str.replace('Rp','')\n",
    "df['dolar_rupiah'] = df['dolar_rupiah'].str.replace(',','')\n",
    "df['dolar_rupiah'] = df['dolar_rupiah'].astype('float64')\n",
    "\n",
    "df.dtypes"
   ]
  },
  {
   "cell_type": "markdown",
   "metadata": {},
   "source": [
    "check the data again\n"
   ]
  },
  {
   "cell_type": "code",
   "execution_count": 30,
   "metadata": {
    "scrolled": true
   },
   "outputs": [
    {
     "data": {
      "text/html": [
       "<div>\n",
       "<style scoped>\n",
       "    .dataframe tbody tr th:only-of-type {\n",
       "        vertical-align: middle;\n",
       "    }\n",
       "\n",
       "    .dataframe tbody tr th {\n",
       "        vertical-align: top;\n",
       "    }\n",
       "\n",
       "    .dataframe thead th {\n",
       "        text-align: right;\n",
       "    }\n",
       "</style>\n",
       "<table border=\"1\" class=\"dataframe\">\n",
       "  <thead>\n",
       "    <tr style=\"text-align: right;\">\n",
       "      <th></th>\n",
       "      <th>period</th>\n",
       "      <th>dolar_rupiah</th>\n",
       "    </tr>\n",
       "  </thead>\n",
       "  <tbody>\n",
       "    <tr>\n",
       "      <th>0</th>\n",
       "      <td>2023-05-12</td>\n",
       "      <td>14844.0</td>\n",
       "    </tr>\n",
       "    <tr>\n",
       "      <th>1</th>\n",
       "      <td>2023-05-11</td>\n",
       "      <td>14776.0</td>\n",
       "    </tr>\n",
       "    <tr>\n",
       "      <th>2</th>\n",
       "      <td>2023-05-10</td>\n",
       "      <td>14698.0</td>\n",
       "    </tr>\n",
       "    <tr>\n",
       "      <th>3</th>\n",
       "      <td>2023-05-09</td>\n",
       "      <td>14776.0</td>\n",
       "    </tr>\n",
       "    <tr>\n",
       "      <th>4</th>\n",
       "      <td>2023-05-08</td>\n",
       "      <td>14744.0</td>\n",
       "    </tr>\n",
       "  </tbody>\n",
       "</table>\n",
       "</div>"
      ],
      "text/plain": [
       "      period  dolar_rupiah\n",
       "0 2023-05-12       14844.0\n",
       "1 2023-05-11       14776.0\n",
       "2 2023-05-10       14698.0\n",
       "3 2023-05-09       14776.0\n",
       "4 2023-05-08       14744.0"
      ]
     },
     "execution_count": 30,
     "metadata": {},
     "output_type": "execute_result"
    }
   ],
   "source": [
    "df.head()"
   ]
  },
  {
   "cell_type": "markdown",
   "metadata": {},
   "source": [
    "To make our plot behave like we want, we need to set our index of our dataframe to our time coloumn. We can use `set_index()` "
   ]
  },
  {
   "cell_type": "code",
   "execution_count": 31,
   "metadata": {},
   "outputs": [],
   "source": [
    "df = df.set_index('period')"
   ]
  },
  {
   "cell_type": "markdown",
   "metadata": {},
   "source": [
    "And done, We can do our simple visualisation to put the cherry on top."
   ]
  },
  {
   "cell_type": "code",
   "execution_count": 32,
   "metadata": {},
   "outputs": [
    {
     "data": {
      "text/plain": [
       "<Axes: xlabel='period'>"
      ]
     },
     "execution_count": 32,
     "metadata": {},
     "output_type": "execute_result"
    },
    {
     "data": {
      "image/png": "[encoded data removed]",
      "text/plain": [
       "<Figure size 640x480 with 1 Axes>"
      ]
     },
     "metadata": {},
     "output_type": "display_data"
    }
   ],
   "source": [
    "df.plot()"
   ]
  },
  {
   "cell_type": "markdown",
   "metadata": {},
   "source": [
    "### Implementing your webscrapping to the flask dashboard\n",
    "\n",
    "- Copy paste all of your web scrapping process to the desired position on the `app.py`\n",
    "- Changing the title of the dasboard at `index.html`"
   ]
  },
  {
   "cell_type": "markdown",
   "metadata": {},
   "source": [
    "## Finishing This Notebook with Your Analysis and Conclusion\n",
    "\n",
    "First you can do start with making the data visualisation. "
   ]
  },
  {
   "cell_type": "code",
   "execution_count": 33,
   "metadata": {
    "ExecuteTime": {
     "end_time": "2020-01-13T05:20:56.208237Z",
     "start_time": "2020-01-13T05:20:56.076043Z"
    }
   },
   "outputs": [
    {
     "data": {
      "text/plain": [
       "<Axes: xlabel='period'>"
      ]
     },
     "execution_count": 33,
     "metadata": {},
     "output_type": "execute_result"
    },
    {
     "data": {
      "image/png": "[encoded data removed]",
      "text/plain": [
       "<Figure size 640x480 with 1 Axes>"
      ]
     },
     "metadata": {},
     "output_type": "display_data"
    }
   ],
   "source": [
    "df.plot()"
   ]
  },
  {
   "cell_type": "markdown",
   "metadata": {},
   "source": [
    "We already finish our web scrapping job, now we have all the data we need and we can move on to the next part of the project using pandas usual. In conclusion when you don't have a direct access to a data from a website you can always do the scrapping method. There is a couple library that can do same task like scrapy that can build bot to automaticly crawl data, but we choose beautiful soup since it's more beginner friendly and a helpful utility that allows a programmer to get specific elements out of a webpage (for example, a list of images)\n",
    "\n",
    "so much web scrapping from me, if there are any shortage, I apologize profusely.\n",
    "\n",
    "Thank You :))"
   ]
  },
  {
   "cell_type": "markdown",
   "metadata": {},
   "source": [
    "### Implement it at the webapps\n",
    "\n",
    "- You can create additional analysis from the data.\n",
    "- Implement it to the dashboard with at `app.py` dan `index.html`."
   ]
  }
 ],
 "metadata": {
  "kernelspec": {
   "display_name": "vulcan_da",
   "language": "python",
   "name": "vulcan_da"
  },
  "language_info": {
   "codemirror_mode": {
    "name": "ipython",
    "version": 3
   },
   "file_extension": ".py",
   "mimetype": "text/x-python",
   "name": "python",
   "nbconvert_exporter": "python",
   "pygments_lexer": "ipython3",
   "version": "3.10.10"
  }
 },
 "nbformat": 4,
 "nbformat_minor": 2
}
